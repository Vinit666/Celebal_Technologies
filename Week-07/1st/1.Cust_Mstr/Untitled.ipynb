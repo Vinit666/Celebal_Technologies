{
 "cells": [
  {
   "cell_type": "code",
   "execution_count": null,
   "id": "4f9b9ad4-025a-41e2-9aad-ef8788a230a5",
   "metadata": {},
   "outputs": [],
   "source": [
    "import pandas as pd\n",
    "from pyspark.sql import SparkSession\n",
    "from pyspark.sql.functions import col, avg, when, count, sum, lit\n",
    "from pyspark.sql.window import Window"
   ]
  },
  {
   "cell_type": "markdown",
   "id": "5d5cc264-0f0d-49ee-ab17-651b7457970b",
   "metadata": {},
   "source": [
    "### Initialize Spark session"
   ]
  },
  {
   "cell_type": "code",
   "execution_count": null,
   "id": "e1c7ec35-a7e0-4c28-bc88-1a258e6fd64b",
   "metadata": {},
   "outputs": [],
   "source": [
    "spark = SparkSession.builder.appName(\"CUST_MSTR_Transformations\").getOrCreate()"
   ]
  },
  {
   "cell_type": "markdown",
   "id": "1848ac87-00f5-4f44-9508-77b8b8565673",
   "metadata": {},
   "source": [
    "### Load the data from the Data Lake"
   ]
  },
  {
   "cell_type": "code",
   "execution_count": null,
   "id": "8b64470d-c35a-4a55-a022-f7f0477ff1ec",
   "metadata": {},
   "outputs": [],
   "source": [
    "cust_mstr_df = spark.read.csv(\"https://ctcoe.blob.core.windows.net/week07/Raw Data/CUST_MSTR_20191112.csv\", header=True, inferSchema=True)"
   ]
  },
  {
   "cell_type": "markdown",
   "id": "b2c9953f-edb9-411d-810f-1f6f068b1b48",
   "metadata": {},
   "source": [
    "## Task 1: Find Average Spending Score by Profession"
   ]
  },
  {
   "cell_type": "code",
   "execution_count": null,
   "id": "18ac936b-e5ee-44cf-b40a-452074865eb6",
   "metadata": {},
   "outputs": [],
   "source": [
    "avg_spending_by_profession = cust_mstr_df.groupBy(\"Profession\").agg(avg(\"SpendingScore\").alias(\"AvgSpendingScore\"))"
   ]
  },
  {
   "cell_type": "markdown",
   "id": "9659b217-a252-40d1-b325-0767ed4b6c48",
   "metadata": {},
   "source": [
    "## Task 2: Identify Customers with High Spending Propensity and Low Income\n",
    "### Assuming threshold for high spending propensity is SpendingScore > 70 and low income is Income < 30000"
   ]
  },
  {
   "cell_type": "code",
   "execution_count": null,
   "id": "bc7fbd3b-45aa-4163-a1d2-ee5f1ed914d3",
   "metadata": {},
   "outputs": [],
   "source": [
    "high_spending_low_income = cust_mstr_df.filter((col(\"SpendingScore\") > 70) & (col(\"Income\") < 30000))"
   ]
  },
  {
   "cell_type": "markdown",
   "id": "4fcfd54b-6bc9-4ac3-97c2-e06303599e0f",
   "metadata": {},
   "source": [
    "## Task 3: Compare Spending Score Distribution Across Age Groups\n",
    "### Creating age groups"
   ]
  },
  {
   "cell_type": "code",
   "execution_count": null,
   "id": "93bd6a2f-305a-429a-8e8a-cc678b9bfbb6",
   "metadata": {},
   "outputs": [],
   "source": [
    "cust_mstr_df = cust_mstr_df.withColumn(\"AgeGroup\", \n",
    "                when(col(\"Age\") < 20, \"Under 20\")\n",
    "               .when((col(\"Age\") >= 20) & (col(\"Age\") < 30), \"20-29\")\n",
    "               .when((col(\"Age\") >= 30) & (col(\"Age\") < 40), \"30-39\")\n",
    "               .when((col(\"Age\") >= 40) & (col(\"Age\") < 50), \"40-49\")\n",
    "               .when((col(\"Age\") >= 50) & (col(\"Age\") < 60), \"50-59\")\n",
    "               .otherwise(\"60 and above\"))\n",
    "\n",
    "spending_score_by_age_group = cust_mstr_df.groupBy(\"AgeGroup\").agg(avg(\"SpendingScore\").alias(\"AvgSpendingScore\"))"
   ]
  },
  {
   "cell_type": "markdown",
   "id": "fb159831-b9e9-499b-9f7d-6cadf1f97ba2",
   "metadata": {},
   "source": [
    "## Task 4: Identify Top Spending Families\n",
    "### Assuming families are identified by FamilyID and top spending is based on SpendingScore"
   ]
  },
  {
   "cell_type": "code",
   "execution_count": null,
   "id": "d5b3f937-a854-4d19-9ac6-bd2fa7322fd7",
   "metadata": {},
   "outputs": [],
   "source": [
    "top_spending_families = cust_mstr_df.groupBy(\"FamilyID\").agg(sum(\"SpendingScore\").alias(\"TotalSpendingScore\")).orderBy(col(\"TotalSpendingScore\").desc())"
   ]
  },
  {
   "cell_type": "markdown",
   "id": "f4e0c1ee-f822-4c3f-904f-8b04f03774f8",
   "metadata": {},
   "source": [
    "## Task 5: Finding Customers with High Spending Potential based on Age and Profession\n",
    "### Assuming high spending potential is SpendingScore > 80\n"
   ]
  },
  {
   "cell_type": "code",
   "execution_count": null,
   "id": "3ff62cb7-d21f-4bec-b304-59e1d0457deb",
   "metadata": {},
   "outputs": [],
   "source": [
    "high_spending_potential = cust_mstr_df.filter(col(\"SpendingScore\") > 80).select(\"CustomerID\", \"Age\", \"Profession\", \"SpendingScore\")"
   ]
  },
  {
   "cell_type": "markdown",
   "id": "910cf99f-5482-4276-8af7-a4d73f05b9c9",
   "metadata": {},
   "source": [
    "## Task 6: Identifying Customers with Declining Spending Score\n",
    "### Assuming decline is defined as a drop in SpendingScore over time\n",
    "### Creating a window specification to calculate the difference"
   ]
  },
  {
   "cell_type": "code",
   "execution_count": null,
   "id": "b72dea7b-d58e-4e9a-9cc2-a8c0326f6d98",
   "metadata": {},
   "outputs": [],
   "source": [
    "window_spec = Window.partitionBy(\"CustomerID\").orderBy(\"Date\")\n",
    "cust_mstr_df = cust_mstr_df.withColumn(\"PrevSpendingScore\", lag(\"SpendingScore\").over(window_spec))\n",
    "cust_mstr_df = cust_mstr_df.withColumn(\"SpendingScoreDiff\", col(\"SpendingScore\") - col(\"PrevSpendingScore\"))\n",
    "\n",
    "declining_spenders = cust_mstr_df.filter(col(\"SpendingScoreDiff\") < 0).select(\"CustomerID\", \"Date\", \"SpendingScoreDiff\")"
   ]
  },
  {
   "cell_type": "markdown",
   "id": "4d46e6b1-e44d-477d-80ed-463be503e234",
   "metadata": {},
   "source": [
    "### Combine all the results into one dataframe for loading"
   ]
  },
  {
   "cell_type": "code",
   "execution_count": null,
   "id": "9917ec45-8a17-4c58-aaff-54d3d3fcc3fe",
   "metadata": {},
   "outputs": [],
   "source": [
    "final_df = cust_mstr_df.join(avg_spending_by_profession, \"Profession\", \"left\") \\\n",
    "                       .join(high_spending_low_income, \"CustomerID\", \"left\") \\\n",
    "                       .join(spending_score_by_age_group, \"AgeGroup\", \"left\") \\\n",
    "                       .join(top_spending_families, \"FamilyID\", \"left\") \\\n",
    "                       .join(high_spending_potential, \"CustomerID\", \"left\") \\\n",
    "                       .join(declining_spenders, \"CustomerID\", \"left\")"
   ]
  },
  {
   "cell_type": "markdown",
   "id": "03e5132b-1594-45b2-a322-8b97f93ec0c1",
   "metadata": {},
   "source": [
    "### Save the final transformed data back to Data Lake or directly to SQL Database"
   ]
  },
  {
   "cell_type": "code",
   "execution_count": null,
   "id": "4a3bb41f-d4ee-430f-b27d-7c5e4b665a5e",
   "metadata": {},
   "outputs": [],
   "source": [
    "final_df.write.csv(\"path_to_transformed_data\", header=True)"
   ]
  },
  {
   "cell_type": "markdown",
   "id": "c0c0b40f-b8d2-4e71-905e-f7af4c5febf7",
   "metadata": {},
   "source": [
    "### Stop Spark session"
   ]
  },
  {
   "cell_type": "code",
   "execution_count": null,
   "id": "d348224e-9291-4bb1-88c5-96c38c8159c6",
   "metadata": {},
   "outputs": [],
   "source": [
    "spark.stop()"
   ]
  }
 ],
 "metadata": {
  "kernelspec": {
   "display_name": "Python 3 (ipykernel)",
   "language": "python",
   "name": "python3"
  },
  "language_info": {
   "codemirror_mode": {
    "name": "ipython",
    "version": 3
   },
   "file_extension": ".py",
   "mimetype": "text/x-python",
   "name": "python",
   "nbconvert_exporter": "python",
   "pygments_lexer": "ipython3",
   "version": "3.11.0"
  }
 },
 "nbformat": 4,
 "nbformat_minor": 5
}
