{
 "cells": [
  {
   "cell_type": "code",
   "execution_count": null,
   "id": "04a32b3c-bd6f-4b63-9f8b-f232eea79904",
   "metadata": {},
   "outputs": [],
   "source": [
    "from pyspark.sql import SparkSession\n",
    "from pyspark.sql.functions import col, desc, count, substring, when\n",
    "from pyspark.sql.window import Window"
   ]
  },
  {
   "cell_type": "markdown",
   "id": "73a50092-93ab-4878-8e1f-642be29f8c4e",
   "metadata": {},
   "source": [
    "### Initialize Spark session"
   ]
  },
  {
   "cell_type": "code",
   "execution_count": null,
   "id": "3845536c-726d-4fcd-8aff-4821c7a83c6a",
   "metadata": {},
   "outputs": [],
   "source": [
    "spark = SparkSession.builder.appName(\"ECOM_Orders_Transformations\").getOrCreate()"
   ]
  },
  {
   "cell_type": "markdown",
   "id": "f3b8c10b-3424-4dab-93c0-5eea8a1f2568",
   "metadata": {},
   "source": [
    "### Load the data from the Data Lake"
   ]
  },
  {
   "cell_type": "code",
   "execution_count": null,
   "id": "3ebf0bf8-be50-46da-9625-477f1e6a0638",
   "metadata": {},
   "outputs": [],
   "source": [
    "ecom_order_df = spark.read.csv(\"path_to_ECOM_ORDER_files\", header=True, inferSchema=True)"
   ]
  },
  {
   "cell_type": "markdown",
   "id": "cab37e7d-46a8-4aae-b6ca-c606c51242d1",
   "metadata": {},
   "source": [
    "## Task 1: Identifying Customers Who Recently Placed Orders\n",
    "### Assuming 'OrderDate' column exists and is in the format 'yyyy-MM-dd'"
   ]
  },
  {
   "cell_type": "code",
   "execution_count": null,
   "id": "709d1687-d230-42f2-9df1-f694a9380159",
   "metadata": {},
   "outputs": [],
   "source": [
    "recent_orders_df = ecom_order_df.filter(col(\"OrderDate\") >= '2023-01-01') # Adjust the date as needed"
   ]
  },
  {
   "cell_type": "markdown",
   "id": "ce6bb2d4-f080-413b-885f-e986939c13ee",
   "metadata": {},
   "source": [
    "## Task 2: Identify Top-Spending Customers\n",
    "### Assuming 'TotalAmount' column exists"
   ]
  },
  {
   "cell_type": "code",
   "execution_count": null,
   "id": "40197aac-b016-4065-8dd6-139131d18e22",
   "metadata": {},
   "outputs": [],
   "source": [
    "top_spending_customers_df = ecom_order_df.groupBy(\"CustomerID\").agg(sum(\"TotalAmount\").alias(\"TotalSpending\")).orderBy(desc(\"TotalSpending\"))"
   ]
  },
  {
   "cell_type": "markdown",
   "id": "af8d433d-c8e5-477c-9ed8-86541b75f3d3",
   "metadata": {},
   "source": [
    "## Task 3: Identify Customers with Missing City Information"
   ]
  },
  {
   "cell_type": "code",
   "execution_count": null,
   "id": "af9e399b-a008-4935-a7a8-999b8dd212cb",
   "metadata": {},
   "outputs": [],
   "source": [
    "customers_missing_city_df = ecom_order_df.filter(col(\"City\").isNull())"
   ]
  },
  {
   "cell_type": "markdown",
   "id": "f766adc5-20a4-4ef5-ba0a-48a1429e0eaa",
   "metadata": {},
   "source": [
    "## Task 4: Analyzing Most Frequent Zip Code Prefixes\n",
    "### Assuming 'ZipCode' column exists and prefix is first 3 digits"
   ]
  },
  {
   "cell_type": "code",
   "execution_count": null,
   "id": "0d56a800-1712-4f6a-99d4-9795bb208027",
   "metadata": {},
   "outputs": [],
   "source": [
    "zip_code_prefix_df = ecom_order_df.withColumn(\"ZipCodePrefix\", substring(col(\"ZipCode\"), 1, 3))\n",
    "frequent_zip_code_prefix_df = zip_code_prefix_df.groupBy(\"ZipCodePrefix\").agg(count(\"*\").alias(\"Count\")).orderBy(desc(\"Count\"))"
   ]
  },
  {
   "cell_type": "markdown",
   "id": "f99411d6-1382-47e6-901e-4ed15fdab702",
   "metadata": {},
   "source": [
    "## Task 5: Identifying Customers with Recent Purchases\n",
    "### Assuming 'PurchaseDate' column exists"
   ]
  },
  {
   "cell_type": "code",
   "execution_count": null,
   "id": "28bf1eb7-f80c-4217-b6a1-a153bcd52629",
   "metadata": {},
   "outputs": [],
   "source": [
    "recent_purchases_df = ecom_order_df.filter(col(\"PurchaseDate\") >= '2023-01-01') # Adjust the date as needed"
   ]
  },
  {
   "cell_type": "markdown",
   "id": "04aeb955-db99-4827-921a-61672ac33d4e",
   "metadata": {},
   "source": [
    "### Combine all the results into one dataframe for loading"
   ]
  },
  {
   "cell_type": "code",
   "execution_count": null,
   "id": "be2cf99a-a205-48ee-a5ab-51593496aa6b",
   "metadata": {},
   "outputs": [],
   "source": [
    "final_df = ecom_order_df.join(recent_orders_df, \"CustomerID\", \"left\") \\\n",
    "                        .join(top_spending_customers_df, \"CustomerID\", \"left\") \\\n",
    "                        .join(customers_missing_city_df, \"CustomerID\", \"left\") \\\n",
    "                        .join(frequent_zip_code_prefix_df, \"CustomerID\", \"left\") \\\n",
    "                        .join(recent_purchases_df, \"CustomerID\", \"left\")"
   ]
  },
  {
   "cell_type": "markdown",
   "id": "90890d12-6e13-4813-bdec-58a02f9ae357",
   "metadata": {},
   "source": [
    "### Save the final transformed data back to Data Lake or directly to SQL Database"
   ]
  },
  {
   "cell_type": "code",
   "execution_count": null,
   "id": "d87af311-b522-45c7-9009-0373809b9942",
   "metadata": {},
   "outputs": [],
   "source": [
    "final_df.write.csv(\"path_to_transformed_data\", header=True)"
   ]
  },
  {
   "cell_type": "markdown",
   "id": "15a491fe-3067-4d88-b2b6-f86cec987c2f",
   "metadata": {},
   "source": [
    "### Stop Spark session"
   ]
  },
  {
   "cell_type": "code",
   "execution_count": null,
   "id": "a31d7e12-0e64-40a7-8fa9-22c9e8a60938",
   "metadata": {},
   "outputs": [],
   "source": [
    "spark.stop()"
   ]
  }
 ],
 "metadata": {
  "kernelspec": {
   "display_name": "Python 3 (ipykernel)",
   "language": "python",
   "name": "python3"
  },
  "language_info": {
   "codemirror_mode": {
    "name": "ipython",
    "version": 3
   },
   "file_extension": ".py",
   "mimetype": "text/x-python",
   "name": "python",
   "nbconvert_exporter": "python",
   "pygments_lexer": "ipython3",
   "version": "3.11.0"
  }
 },
 "nbformat": 4,
 "nbformat_minor": 5
}
